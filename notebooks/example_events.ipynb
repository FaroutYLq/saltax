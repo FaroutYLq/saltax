{
 "cells": [
  {
   "cell_type": "markdown",
   "id": "dabb47d8-4cba-41b4-b2aa-519b9f810909",
   "metadata": {},
   "source": [
    "This notebook shows sprinkling result in SR1 data, with Rn220 beta events sprinkled.\n",
    "\n",
    "Lanqing, Mar 15 2024"
   ]
  },
  {
   "cell_type": "markdown",
   "id": "455e41fe-76c3-4e8d-9882-a5478da51a2b",
   "metadata": {},
   "source": [
    "# Preparation"
   ]
  },
  {
   "cell_type": "code",
   "execution_count": null,
   "id": "13754755-8490-45a4-8e76-5efcaa18cb60",
   "metadata": {},
   "outputs": [],
   "source": [
    "import saltax\n",
    "import straxen\n",
    "import cutax\n",
    "from tqdm import tqdm\n",
    "import gc \n",
    "import numpy as np\n",
    "import matplotlib.pyplot as plt\n",
    "from tabulate import tabulate\n",
    "from itertools import cycle\n",
    "from saltax.match.utils import *\n",
    "straxen.print_versions()"
   ]
  },
  {
   "cell_type": "code",
   "execution_count": null,
   "id": "425cdfe8-a38f-46eb-9b11-1cabd3e36728",
   "metadata": {},
   "outputs": [],
   "source": [
    "sr1 = '051613,050996,051948,051939,051910,051909,051905,047876,047865,047860,053167,053153,053139,052997,049123,049450,049505,049521,049544'.split(',')\n",
    "modes = ['tpc_radon222', 'tpc_radon222',\n",
    "         'ambe_linked_hev', 'ambe_linked_hev', 'ambe_linked_hev', 'ambe_linked_hev', 'ambe_linked_hev',\n",
    "         'ybe_linked', 'ybe_linked', 'ybe_linked', \n",
    "         'tpc_kr83m', 'tpc_kr83m', 'tpc_kr83m', 'tpc_kr83m',\n",
    "         'tpc_radon_hev', 'tpc_radon_hev', 'tpc_radon_hev', 'tpc_radon_hev', 'tpc_radon_hev']\n",
    "modes_dict = {}\n",
    "for i in range(len(sr1)):\n",
    "    modes_dict[sr1[i]] = modes[i]"
   ]
  },
  {
   "cell_type": "code",
   "execution_count": null,
   "id": "33a43238-178d-4d58-861b-68edc251e29d",
   "metadata": {},
   "outputs": [],
   "source": [
    "st_salt = saltax.contexts.sxenonnt(runid=51613, # put anything here should work\n",
    "             saltax_mode='salt',\n",
    "             output_folder='/scratch/midway2/yuanlq/salt/beta',\n",
    "             faxconf_version=\"sr0_v4\",\n",
    "             generator_name='flat',\n",
    "             recoil=8,\n",
    "             mode='all')\n",
    "st_simu = saltax.contexts.sxenonnt(runid=51613, # put anything here should work\n",
    "             saltax_mode='simu',\n",
    "             output_folder='/scratch/midway2/yuanlq/salt/beta',\n",
    "             faxconf_version=\"sr0_v4\",\n",
    "             generator_name='flat',\n",
    "             recoil=8,\n",
    "             mode='all')"
   ]
  },
  {
   "cell_type": "code",
   "execution_count": null,
   "id": "27d17e22-a314-44fd-af91-c881878cdbef",
   "metadata": {},
   "outputs": [],
   "source": [
    "runs_available = []\n",
    "for run in sr1:\n",
    "    print(run, modes_dict[run], st_salt.is_stored(run, 'event_info'), st_simu.is_stored(run, 'event_info'))\n",
    "\n",
    "print('==========')\n",
    "for run in sr1:\n",
    "    if st_salt.is_stored(run, 'event_info') and st_simu.is_stored(run, 'event_info'):\n",
    "        print(run, modes_dict[run], \n",
    "              st_salt.is_stored(run, 'cuts_basic'), \n",
    "              st_simu.is_stored(run, 'cuts_basic'))"
   ]
  },
  {
   "cell_type": "markdown",
   "id": "122ff84a-3e85-440d-a259-70a35404a814",
   "metadata": {},
   "source": [
    "# Let's sprinkle"
   ]
  },
  {
   "cell_type": "markdown",
   "id": "434e62ae-938d-449a-a1cf-5ed51bdfc131",
   "metadata": {},
   "source": [
    "## SR1 AmBe"
   ]
  },
  {
   "cell_type": "code",
   "execution_count": null,
   "id": "8926249c-123d-4024-a98a-814594ee75a6",
   "metadata": {},
   "outputs": [],
   "source": [
    "(events_simu, \n",
    " events_salt, \n",
    " truth, \n",
    " match, \n",
    " events_salt_matched_to_simu, \n",
    " events_simu_matched_to_salt\n",
    ") = load_events(['051939', '051910', '051909', '051905'], st_salt, st_simu);"
   ]
  },
  {
   "cell_type": "code",
   "execution_count": null,
   "id": "92971ca1-bfec-4b6b-85dc-ab149af6301b",
   "metadata": {},
   "outputs": [],
   "source": [
    "get_single_cut_acc(events_salt_matched_to_simu, events_simu_matched_to_salt,\n",
    "                      all_cut_list = AmBe_CUTS_EXCEPT_S2PatternS1Width)"
   ]
  },
  {
   "cell_type": "code",
   "execution_count": null,
   "id": "4c338007-15f8-484c-a4e9-85a21b7e9918",
   "metadata": {},
   "outputs": [],
   "source": [
    "get_n_minus_1_cut_acc(events_salt_matched_to_simu, events_simu_matched_to_salt,\n",
    "                      all_cut_list = AmBe_CUTS_EXCEPT_S2PatternS1Width)"
   ]
  },
  {
   "cell_type": "code",
   "execution_count": null,
   "id": "8d9a7edb-656a-4e9f-a5e2-90de509504c9",
   "metadata": {},
   "outputs": [],
   "source": [
    "compare_templates(events_salt_matched_to_simu, events_simu_matched_to_salt, \n",
    "                  n_bins = 16, title='Without Cuts Ambience Interference in SR1 AmBe HEV')\n",
    "compare_templates(events_salt_matched_to_simu[apply_cut_lists(events_salt_matched_to_simu,\n",
    "                                                              AmBe_CUTS_EXCEPT_S2PatternS1Width)], \n",
    "                  events_simu_matched_to_salt[apply_cut_lists(events_simu_matched_to_salt,\n",
    "                                                              AmBe_CUTS_EXCEPT_S2PatternS1Width)], \n",
    "                  n_bins = 16, title='With Cuts Ambience Interference in SR1 AmBe HEV')"
   ]
  },
  {
   "cell_type": "markdown",
   "id": "76ee9bf6-1354-40af-b89e-56db404164ec",
   "metadata": {},
   "source": [
    "Those below are effect of ambience interference + cut acceptance on clean simulated events."
   ]
  },
  {
   "cell_type": "code",
   "execution_count": null,
   "id": "1fa9f532-5aa2-4178-a021-bca730960fca",
   "metadata": {},
   "outputs": [],
   "source": [
    "_ambe_s1_cut_eff = get_cut_eff(events_salt_matched_to_simu, all_cut_list = AmBe_CUTS_EXCEPT_S2PatternS1Width, \n",
    "            n_bins=16, coord = 's1_area', plot=True,\n",
    "            indv_cut_type='n_minus_1', title='N-1 Cut Acceptance Measured in SR1 AmBe')\n",
    "_ambe_s2_cut_eff = get_cut_eff(events_salt_matched_to_simu, all_cut_list = AmBe_CUTS_EXCEPT_S2PatternS1Width, \n",
    "            n_bins=16, coord = 's2_area', plot=True,\n",
    "            indv_cut_type='n_minus_1', title='N-1 Cut Acceptance Measured in SR1 AmBe')\n",
    "_ambe_z_cut_eff = get_cut_eff(events_salt_matched_to_simu, all_cut_list = AmBe_CUTS_EXCEPT_S2PatternS1Width, \n",
    "            n_bins=16, coord = 'z', plot=True,\n",
    "            indv_cut_type='n_minus_1', title='N-1 Cut Acceptance Measured in SR1 AmBe')"
   ]
  },
  {
   "cell_type": "code",
   "execution_count": null,
   "id": "0d6a3081-1634-4f15-987b-802a339b2559",
   "metadata": {},
   "outputs": [],
   "source": [
    "mask_simu_cut = apply_cut_lists(events_simu_matched_to_salt,\n",
    "                                AmBe_CUTS_EXCEPT_S2PatternS1Width)\n",
    "ambe_s1_cut_eff = get_cut_eff(events_salt_matched_to_simu[mask_simu_cut], \n",
    "                              all_cut_list = AmBe_CUTS_EXCEPT_S2PatternS1Width, \n",
    "                              n_bins=16, coord = 's1_area', plot=True,\n",
    "                              indv_cut_type='n_minus_1', \n",
    "                              title='Conditional N-1 Cut Acceptance Measured in SR1 AmBe')\n",
    "ambe_s2_cut_eff = get_cut_eff(events_salt_matched_to_simu[mask_simu_cut], \n",
    "                              all_cut_list = AmBe_CUTS_EXCEPT_S2PatternS1Width, \n",
    "                              n_bins=16, coord = 's2_area', plot=True,\n",
    "                              indv_cut_type='n_minus_1', \n",
    "                              title='Conditional N-1 Cut Acceptance Measured in SR1 AmBe')\n",
    "ambe_z_cut_eff = get_cut_eff(events_salt_matched_to_simu[mask_simu_cut], \n",
    "                              all_cut_list = AmBe_CUTS_EXCEPT_S2PatternS1Width, \n",
    "                              n_bins=16, coord = 'z', plot=True,\n",
    "                              indv_cut_type='n_minus_1', \n",
    "                              title='Conditional N-1 Cut Acceptance Measured in SR1 AmBe')"
   ]
  },
  {
   "cell_type": "code",
   "execution_count": null,
   "id": "725dbb68-69ae-44cc-b59a-8348dbca6951",
   "metadata": {},
   "outputs": [],
   "source": [
    "compare_bands(events_salt_matched_to_simu, \n",
    "              events_simu_matched_to_salt, \n",
    "              title='Before Cuts Ambience Interference in SR1 AmBe HEV',\n",
    "              coords=['z', 's2_range_50p_area'], n_bins=16)\n",
    "compare_bands(events_salt_matched_to_simu, \n",
    "              events_simu_matched_to_salt, \n",
    "              title='Before Cuts Ambience Interference in SR1 AmBe HEV',\n",
    "              coords=['z', 's2_range_90p_area'], n_bins=16)\n",
    "compare_bands(events_salt_matched_to_simu, \n",
    "              events_simu_matched_to_salt, \n",
    "              title='Before Cuts Ambience Interference in SR1 AmBe HEV',\n",
    "              coords=['s1_area', 's1_rise_time'], n_bins=16)\n",
    "compare_bands(events_salt_matched_to_simu, \n",
    "              events_simu_matched_to_salt, \n",
    "              title='Before Cuts Ambience Interference in SR1 AmBe HEV',\n",
    "              coords=['s1_area', 's1_range_50p_area'], n_bins=16)\n",
    "compare_bands(events_salt_matched_to_simu, \n",
    "              events_simu_matched_to_salt, \n",
    "              title='Before Cuts Ambience Interference in SR1 AmBe HEV',\n",
    "              coords=['s1_area', 's1_range_90p_area'], n_bins=16)"
   ]
  },
  {
   "cell_type": "code",
   "execution_count": null,
   "id": "67db6440-7eff-41b5-9ef3-e807af81be7b",
   "metadata": {},
   "outputs": [],
   "source": [
    "mask_salt_cut = apply_cut_lists(events_salt_matched_to_simu,\n",
    "                                AmBe_CUTS_EXCEPT_S2PatternS1Width)\n",
    "compare_bands(events_salt_matched_to_simu[mask_salt_cut], \n",
    "              events_simu_matched_to_salt[mask_simu_cut], \n",
    "              title='After Cuts Ambience Interference in SR1 AmBe HEV',\n",
    "              coords=['z', 's2_range_50p_area'], n_bins=16)\n",
    "compare_bands(events_salt_matched_to_simu[mask_salt_cut], \n",
    "              events_simu_matched_to_salt[mask_simu_cut], \n",
    "              title='After Cuts Ambience Interference in SR1 AmBe HEV',\n",
    "              coords=['z', 's2_range_90p_area'], n_bins=16)\n",
    "compare_bands(events_salt_matched_to_simu[mask_salt_cut], \n",
    "              events_simu_matched_to_salt[mask_simu_cut], \n",
    "              title='After Cuts Ambience Interference in SR1 AmBe HEV',\n",
    "              coords=['s1_area', 's1_rise_time'], n_bins=16)\n",
    "compare_bands(events_salt_matched_to_simu[mask_salt_cut], \n",
    "              events_simu_matched_to_salt[mask_simu_cut], \n",
    "              title='After Cuts Ambience Interference in SR1 AmBe HEV',\n",
    "              coords=['s1_area', 's1_range_50p_area'], n_bins=16)\n",
    "compare_bands(events_salt_matched_to_simu[mask_salt_cut], \n",
    "              events_simu_matched_to_salt[mask_simu_cut], \n",
    "              title='After Cuts Ambience Interference in SR1 AmBe HEV',\n",
    "              coords=['s1_area', 's1_range_90p_area'], n_bins=16)"
   ]
  },
  {
   "cell_type": "code",
   "execution_count": null,
   "id": "2d8ceab8-a5e4-46c3-8424-3b5345583e3b",
   "metadata": {},
   "outputs": [],
   "source": [
    "show_area_bias(events_salt_matched_to_simu[mask_salt_cut&mask_simu_cut], \n",
    "               events_simu_matched_to_salt[mask_salt_cut&mask_simu_cut], \n",
    "               title='After Cuts Ambience Interference in SR1 AmBe HEV', \n",
    "               coord='s1_area', s1s2='S1', n_bins=16, ylim=(-2,10))\n",
    "show_area_bias(events_salt_matched_to_simu[mask_salt_cut&mask_simu_cut], \n",
    "               events_simu_matched_to_salt[mask_salt_cut&mask_simu_cut], \n",
    "               title='After Cuts Ambience Interference in SR1 AmBe HEV', \n",
    "               coord='s2_area', s1s2='S2', n_bins=16, ylim=(-2,100))\n",
    "show_area_bias(events_salt_matched_to_simu[mask_salt_cut&mask_simu_cut], \n",
    "               events_simu_matched_to_salt[mask_salt_cut&mask_simu_cut], \n",
    "               title='After Cuts Ambience Interference in SR1 AmBe HEV', \n",
    "               coord='z', s1s2='S2', n_bins=16, ylim=(-2,100))"
   ]
  },
  {
   "cell_type": "markdown",
   "id": "c9d6b002-231d-4ac4-8972-b1c010fc3822",
   "metadata": {},
   "source": [
    "## SR1 YBe"
   ]
  },
  {
   "cell_type": "code",
   "execution_count": null,
   "id": "94eda063-72c1-4b8b-a62c-6db9c4231dd7",
   "metadata": {
    "scrolled": true
   },
   "outputs": [],
   "source": [
    "(events_simu, \n",
    " events_salt, \n",
    " truth, \n",
    " match, \n",
    " events_salt_matched_to_simu, \n",
    " events_simu_matched_to_salt\n",
    ") = load_events(['047876', '047865', '047860'], st_salt, st_simu);"
   ]
  },
  {
   "cell_type": "code",
   "execution_count": null,
   "id": "1f771c33-2f94-438a-97f0-d42e65af679a",
   "metadata": {},
   "outputs": [],
   "source": [
    "get_single_cut_acc(events_salt_matched_to_simu, events_simu_matched_to_salt,\n",
    "                      all_cut_list = ALL_CUTS_EXCEPT_S2PatternS1Width)"
   ]
  },
  {
   "cell_type": "code",
   "execution_count": null,
   "id": "34526ec8-8ac7-4613-b027-0611efb3fce6",
   "metadata": {},
   "outputs": [],
   "source": [
    "get_n_minus_1_cut_acc(events_salt_matched_to_simu, events_simu_matched_to_salt,\n",
    "                      all_cut_list = ALL_CUTS_EXCEPT_S2PatternS1Width)"
   ]
  },
  {
   "cell_type": "code",
   "execution_count": null,
   "id": "edcbb2d8-01f2-4f81-9fc4-bea25f664e65",
   "metadata": {},
   "outputs": [],
   "source": [
    "compare_templates(events_salt_matched_to_simu, events_simu_matched_to_salt, \n",
    "                  n_bins = 16, title='Without Cuts Ambience Interference in SR1 YBe')\n",
    "compare_templates(events_salt_matched_to_simu[apply_cut_lists(events_salt_matched_to_simu,\n",
    "                                                              ALL_CUTS_EXCEPT_S2PatternS1Width)], \n",
    "                  events_simu_matched_to_salt[apply_cut_lists(events_simu_matched_to_salt,\n",
    "                                                              ALL_CUTS_EXCEPT_S2PatternS1Width)], \n",
    "                  n_bins = 16, title='With Cuts Ambience Interference in SR1 YBe')"
   ]
  },
  {
   "cell_type": "markdown",
   "id": "dc050ae9-3c7c-4e9b-bb3e-e1f80f7b7c08",
   "metadata": {},
   "source": [
    "Why so clean? This makes no sense"
   ]
  },
  {
   "cell_type": "code",
   "execution_count": null,
   "id": "dd962b8d-5a02-434a-802e-c5252dbd794c",
   "metadata": {},
   "outputs": [],
   "source": [
    "_ybe_s1_cut_eff = get_cut_eff(events_salt_matched_to_simu, all_cut_list = ALL_CUTS_EXCEPT_S2PatternS1Width, \n",
    "                              n_bins=16, coord = 's1_area', plot=True,\n",
    "                              indv_cut_type='n_minus_1', title='N-1 Cut Acceptance Measured in SR1 YBe',\n",
    "                              bbox_to_anchor=(0.5, 1.52))\n",
    "_ybe_s2_cut_eff = get_cut_eff(events_salt_matched_to_simu, all_cut_list = ALL_CUTS_EXCEPT_S2PatternS1Width, \n",
    "                              n_bins=16, coord = 's2_area', plot=True,\n",
    "                              indv_cut_type='n_minus_1', title='N-1 Cut Acceptance Measured in SR1 YBe',\n",
    "                              bbox_to_anchor=(0.5, 1.52))\n",
    "_ybe_z_cut_eff = get_cut_eff(events_salt_matched_to_simu, all_cut_list = ALL_CUTS_EXCEPT_S2PatternS1Width, \n",
    "                             n_bins=16, coord = 'z', plot=True,\n",
    "                             indv_cut_type='n_minus_1', title='N-1 Cut Acceptance Measured in SR1 YBe',\n",
    "                             bbox_to_anchor=(0.5, 1.52))"
   ]
  },
  {
   "cell_type": "code",
   "execution_count": null,
   "id": "117617c7-69d2-496b-9e62-6b2d9b9acd7c",
   "metadata": {},
   "outputs": [],
   "source": [
    "mask_simu_cut = apply_cut_lists(events_simu_matched_to_salt,\n",
    "                                ALL_CUTS_EXCEPT_S2PatternS1Width)\n",
    "ybe_s1_cut_eff = get_cut_eff(events_salt_matched_to_simu[mask_simu_cut], \n",
    "                             all_cut_list = ALL_CUTS_EXCEPT_S2PatternS1Width, \n",
    "                             n_bins=16, coord = 's1_area', plot=True,\n",
    "                             indv_cut_type='n_minus_1', \n",
    "                             title='Conditional N-1 Cut Acceptance Measured in SR1 YBe',\n",
    "                             bbox_to_anchor=(0.5, 1.52))\n",
    "ybe_cut_eff = get_cut_eff(events_salt_matched_to_simu[mask_simu_cut], \n",
    "                          all_cut_list = ALL_CUTS_EXCEPT_S2PatternS1Width, \n",
    "                          n_bins=16, coord = 's2_area', plot=True,\n",
    "                          indv_cut_type='n_minus_1', \n",
    "                          title='Conditional N-1 Cut Acceptance Measured in SR1 YBe',\n",
    "                          bbox_to_anchor=(0.5, 1.52))\n",
    "ybe_z_cut_eff = get_cut_eff(events_salt_matched_to_simu[mask_simu_cut], \n",
    "                            all_cut_list = ALL_CUTS_EXCEPT_S2PatternS1Width, \n",
    "                            n_bins=16, coord = 'z', plot=True,\n",
    "                            indv_cut_type='n_minus_1', \n",
    "                            title='Conditional N-1 Cut Acceptance Measured in SR1 YBe',\n",
    "                            bbox_to_anchor=(0.5, 1.52))"
   ]
  },
  {
   "cell_type": "code",
   "execution_count": null,
   "id": "dd3c9f8a-2a27-466f-b9ee-2ef1405444e1",
   "metadata": {},
   "outputs": [],
   "source": [
    "compare_bands(events_salt_matched_to_simu, \n",
    "              events_simu_matched_to_salt, \n",
    "              title='Before Cuts Ambience Interference in SR1 YBe',\n",
    "              coords=['z', 's2_range_50p_area'], n_bins=16)\n",
    "compare_bands(events_salt_matched_to_simu, \n",
    "              events_simu_matched_to_salt, \n",
    "              title='Before Cuts Ambience Interference in SR1 YBe',\n",
    "              coords=['z', 's2_range_90p_area'], n_bins=16)\n",
    "compare_bands(events_salt_matched_to_simu, \n",
    "              events_simu_matched_to_salt, \n",
    "              title='Before Cuts Ambience Interference in SR1 YBe',\n",
    "              coords=['s1_area', 's1_rise_time'], n_bins=16)\n",
    "compare_bands(events_salt_matched_to_simu, \n",
    "              events_simu_matched_to_salt, \n",
    "              title='Before Cuts Ambience Interference in SR1 YBe',\n",
    "              coords=['s1_area', 's1_range_50p_area'], n_bins=16)\n",
    "compare_bands(events_salt_matched_to_simu, \n",
    "              events_simu_matched_to_salt, \n",
    "              title='Before Cuts Ambience Interference in SR1 YBe',\n",
    "              coords=['s1_area', 's1_range_90p_area'], n_bins=16)"
   ]
  },
  {
   "cell_type": "code",
   "execution_count": null,
   "id": "f4294f32-59ee-4661-8265-324a94ede4bd",
   "metadata": {},
   "outputs": [],
   "source": [
    "mask_salt_cut = apply_cut_lists(events_salt_matched_to_simu,\n",
    "                                ALL_CUTS_EXCEPT_S2PatternS1Width)\n",
    "compare_bands(events_salt_matched_to_simu[mask_salt_cut], \n",
    "              events_simu_matched_to_salt[mask_simu_cut], \n",
    "              title='After Cuts Ambience Interference in SR1 YBe',\n",
    "              coords=['z', 's2_range_50p_area'], n_bins=16)\n",
    "compare_bands(events_salt_matched_to_simu[mask_salt_cut], \n",
    "              events_simu_matched_to_salt[mask_simu_cut], \n",
    "              title='After Cuts Ambience Interference in SR1 YBe',\n",
    "              coords=['z', 's2_range_90p_area'], n_bins=16)\n",
    "compare_bands(events_salt_matched_to_simu[mask_salt_cut], \n",
    "              events_simu_matched_to_salt[mask_simu_cut], \n",
    "              title='After Cuts Ambience Interference in SR1 YBe',\n",
    "              coords=['s1_area', 's1_rise_time'], n_bins=16)\n",
    "compare_bands(events_salt_matched_to_simu[mask_salt_cut], \n",
    "              events_simu_matched_to_salt[mask_simu_cut], \n",
    "              title='After Cuts Ambience Interference in SR1 YBe',\n",
    "              coords=['s1_area', 's1_range_50p_area'], n_bins=16)\n",
    "compare_bands(events_salt_matched_to_simu[mask_salt_cut], \n",
    "              events_simu_matched_to_salt[mask_simu_cut], \n",
    "              title='After Cuts Ambience Interference in SR1 YBe',\n",
    "              coords=['s1_area', 's1_range_90p_area'], n_bins=16)"
   ]
  },
  {
   "cell_type": "code",
   "execution_count": null,
   "id": "19d4ee38-70c1-4724-8c1d-80a4809030fe",
   "metadata": {},
   "outputs": [],
   "source": [
    "show_area_bias(events_salt_matched_to_simu[mask_salt_cut&mask_simu_cut], \n",
    "               events_simu_matched_to_salt[mask_salt_cut&mask_simu_cut], \n",
    "               title='After Cuts Ambience Interference in SR1 YBe', \n",
    "               coord='s1_area', s1s2='S1', n_bins=16, ylim=(-2,10))\n",
    "show_area_bias(events_salt_matched_to_simu[mask_salt_cut&mask_simu_cut], \n",
    "               events_simu_matched_to_salt[mask_salt_cut&mask_simu_cut], \n",
    "               title='After Cuts Ambience Interference in SR1 YBe', \n",
    "               coord='s2_area', s1s2='S2', n_bins=16, ylim=(-2,100))\n",
    "show_area_bias(events_salt_matched_to_simu[mask_salt_cut&mask_simu_cut], \n",
    "               events_simu_matched_to_salt[mask_salt_cut&mask_simu_cut], \n",
    "               title='After Cuts Ambience Interference in SR1 YBe', \n",
    "               coord='z', s1s2='S2', n_bins=16, ylim=(-2,100))"
   ]
  },
  {
   "cell_type": "markdown",
   "id": "91a3c729-4461-41c7-b758-d37cd5d15ca1",
   "metadata": {},
   "source": [
    "## SR1 Kr83m"
   ]
  },
  {
   "cell_type": "code",
   "execution_count": null,
   "id": "26e840bb-0456-4238-8f6a-d7ec915972d5",
   "metadata": {
    "scrolled": true
   },
   "outputs": [],
   "source": [
    "(events_simu, \n",
    " events_salt, \n",
    " truth, \n",
    " match, \n",
    " events_salt_matched_to_simu, \n",
    " events_simu_matched_to_salt\n",
    ") = load_events(['053167', '053153', '053139', '052997'], st_salt, st_simu);"
   ]
  },
  {
   "cell_type": "code",
   "execution_count": null,
   "id": "7e22d770-3645-416d-b160-1f7f62e98a0c",
   "metadata": {},
   "outputs": [],
   "source": [
    "get_single_cut_acc(events_salt_matched_to_simu, events_simu_matched_to_salt,\n",
    "                      all_cut_list = ALL_CUTS_EXCEPT_S2PatternS1Width)\n",
    "get_n_minus_1_cut_acc(events_salt_matched_to_simu, events_simu_matched_to_salt,\n",
    "                      all_cut_list = ALL_CUTS_EXCEPT_S2PatternS1Width)"
   ]
  },
  {
   "cell_type": "code",
   "execution_count": null,
   "id": "68f7d664-cc03-4f08-b820-c7d9a1f2bb80",
   "metadata": {},
   "outputs": [],
   "source": [
    "compare_templates(events_salt_matched_to_simu, events_simu_matched_to_salt, \n",
    "                  n_bins = 16, title='Without Cuts Ambience Interference in SR1 Kr83m')\n",
    "compare_templates(events_salt_matched_to_simu[apply_cut_lists(events_salt_matched_to_simu,\n",
    "                                                              ALL_CUTS_EXCEPT_S2PatternS1Width)], \n",
    "                  events_simu_matched_to_salt[apply_cut_lists(events_simu_matched_to_salt,\n",
    "                                                              ALL_CUTS_EXCEPT_S2PatternS1Width)], \n",
    "                  n_bins = 16, title='With Cuts Ambience Interference in SR1 Kr83m')"
   ]
  },
  {
   "cell_type": "code",
   "execution_count": null,
   "id": "7098215c-9cbc-4a0a-a65a-0daabb8fb5b5",
   "metadata": {},
   "outputs": [],
   "source": [
    "_kr_s1_cut_eff = get_cut_eff(events_salt_matched_to_simu, all_cut_list = ALL_CUTS_EXCEPT_S2PatternS1Width, \n",
    "                             n_bins=16, coord = 's1_area', plot=True,\n",
    "                             indv_cut_type='n_minus_1', title='N-1 Cut Acceptance Measured in SR1 Kr83m')\n",
    "_kr_s2_cut_eff = get_cut_eff(events_salt_matched_to_simu, all_cut_list = ALL_CUTS_EXCEPT_S2PatternS1Width, \n",
    "                             n_bins=16, coord = 's2_area', plot=True,\n",
    "                             indv_cut_type='n_minus_1', title='N-1 Cut Acceptance Measured in SR1 Kr83m')\n",
    "_kr_z_cut_eff = get_cut_eff(events_salt_matched_to_simu, all_cut_list = ALL_CUTS_EXCEPT_S2PatternS1Width, \n",
    "                            n_bins=16, coord = 'z', plot=True,\n",
    "                            indv_cut_type='n_minus_1', title='N-1 Cut Acceptance Measured in SR1 Kr83m')"
   ]
  },
  {
   "cell_type": "code",
   "execution_count": null,
   "id": "26575754-15d7-44c7-ace0-c7712f0da59c",
   "metadata": {},
   "outputs": [],
   "source": [
    "mask_simu_cut = apply_cut_lists(events_simu_matched_to_salt,\n",
    "                                ALL_CUTS_EXCEPT_S2PatternS1Width)\n",
    "ambe_s1_cut_eff = get_cut_eff(events_salt_matched_to_simu[mask_simu_cut], \n",
    "                              all_cut_list = ALL_CUTS_EXCEPT_S2PatternS1Width, \n",
    "                              n_bins=16, coord = 's1_area', plot=True,\n",
    "                              indv_cut_type='n_minus_1', \n",
    "                              title='Conditional N-1 Cut Acceptance Measured in SR1 Rn220')\n",
    "ambe_s2_cut_eff = get_cut_eff(events_salt_matched_to_simu[mask_simu_cut], \n",
    "                              all_cut_list = ALL_CUTS_EXCEPT_S2PatternS1Width, \n",
    "                              n_bins=16, coord = 's2_area', plot=True,\n",
    "                              indv_cut_type='n_minus_1', \n",
    "                              title='Conditional N-1 Cut Acceptance Measured in SR1 Rn220')\n",
    "ambe_z_cut_eff = get_cut_eff(events_salt_matched_to_simu[mask_simu_cut], \n",
    "                              all_cut_list = ALL_CUTS_EXCEPT_S2PatternS1Width, \n",
    "                              n_bins=16, coord = 'z', plot=True,\n",
    "                              indv_cut_type='n_minus_1', \n",
    "                              title='Conditional N-1 Cut Acceptance Measured in SR1 Rn220')"
   ]
  },
  {
   "cell_type": "code",
   "execution_count": null,
   "id": "d14c95f0-39b8-45cc-901b-50b9000e2742",
   "metadata": {},
   "outputs": [],
   "source": [
    "mask_simu_cut = apply_cut_lists(events_simu_matched_to_salt,\n",
    "                                ALL_CUTS_EXCEPT_S2PatternS1Width)\n",
    "kr_s1_cut_eff = get_cut_eff(events_salt_matched_to_simu[mask_simu_cut], \n",
    "                            all_cut_list = ALL_CUTS_EXCEPT_S2PatternS1Width, \n",
    "                            n_bins=16, coord = 's1_area', plot=True,\n",
    "                            indv_cut_type='n_minus_1', \n",
    "                            title='Conditional N-1 Cut Acceptance Measured in SR1 Kr83m',\n",
    "                            bbox_to_anchor=(0.5, 1.52))\n",
    "kr_cut_eff = get_cut_eff(events_salt_matched_to_simu[mask_simu_cut], \n",
    "                         all_cut_list = ALL_CUTS_EXCEPT_S2PatternS1Width, \n",
    "                         n_bins=16, coord = 's2_area', plot=True,\n",
    "                         indv_cut_type='n_minus_1', \n",
    "                         title='Conditional N-1 Cut Acceptance Measured in SR1 Kr83m',\n",
    "                         bbox_to_anchor=(0.5, 1.52))\n",
    "kr_z_cut_eff = get_cut_eff(events_salt_matched_to_simu[mask_simu_cut], \n",
    "                           all_cut_list = ALL_CUTS_EXCEPT_S2PatternS1Width, \n",
    "                           n_bins=16, coord = 'z', plot=True,\n",
    "                           indv_cut_type='n_minus_1', \n",
    "                           title='Conditional N-1 Cut Acceptance Measured in SR1 Kr83m',\n",
    "                           bbox_to_anchor=(0.5, 1.52))"
   ]
  },
  {
   "cell_type": "code",
   "execution_count": null,
   "id": "c75ca4a0-fe68-4493-8cf7-3345bac109fa",
   "metadata": {},
   "outputs": [],
   "source": [
    "compare_bands(events_salt_matched_to_simu, \n",
    "              events_simu_matched_to_salt, \n",
    "              title='Before Cuts Ambience Interference in SR1 Kr83m',\n",
    "              coords=['z', 's2_range_50p_area'], n_bins=16)\n",
    "compare_bands(events_salt_matched_to_simu, \n",
    "              events_simu_matched_to_salt, \n",
    "              title='Before Cuts Ambience Interference in SR1 Kr83m',\n",
    "              coords=['z', 's2_range_90p_area'], n_bins=16)\n",
    "compare_bands(events_salt_matched_to_simu, \n",
    "              events_simu_matched_to_salt, \n",
    "              title='Before Cuts Ambience Interference in SR1 Kr83m',\n",
    "              coords=['s1_area', 's1_rise_time'], n_bins=16)\n",
    "compare_bands(events_salt_matched_to_simu, \n",
    "              events_simu_matched_to_salt, \n",
    "              title='Before Cuts Ambience Interference in SR1 Kr83m',\n",
    "              coords=['s1_area', 's1_range_50p_area'], n_bins=16)\n",
    "compare_bands(events_salt_matched_to_simu, \n",
    "              events_simu_matched_to_salt, \n",
    "              title='Before Cuts Ambience Interference in SR1 Kr83m',\n",
    "              coords=['s1_area', 's1_range_90p_area'], n_bins=16)"
   ]
  },
  {
   "cell_type": "code",
   "execution_count": null,
   "id": "78bf05ed-9519-455c-af18-886726359dcc",
   "metadata": {},
   "outputs": [],
   "source": [
    "mask_salt_cut = apply_cut_lists(events_salt_matched_to_simu,\n",
    "                                ALL_CUTS_EXCEPT_S2PatternS1Width)\n",
    "compare_bands(events_salt_matched_to_simu[mask_salt_cut], \n",
    "              events_simu_matched_to_salt[mask_simu_cut], \n",
    "              title='After Cuts Ambience Interference in SR1 Kr83m',\n",
    "              coords=['z', 's2_range_50p_area'], n_bins=16)\n",
    "compare_bands(events_salt_matched_to_simu[mask_salt_cut], \n",
    "              events_simu_matched_to_salt[mask_simu_cut], \n",
    "              title='After Cuts Ambience Interference in SR1 Kr83m',\n",
    "              coords=['z', 's2_range_90p_area'], n_bins=16)\n",
    "compare_bands(events_salt_matched_to_simu[mask_salt_cut], \n",
    "              events_simu_matched_to_salt[mask_simu_cut], \n",
    "              title='After Cuts Ambience Interference in SR1 Kr83m',\n",
    "              coords=['s1_area', 's1_rise_time'], n_bins=16)\n",
    "compare_bands(events_salt_matched_to_simu[mask_salt_cut], \n",
    "              events_simu_matched_to_salt[mask_simu_cut], \n",
    "              title='After Cuts Ambience Interference in SR1 Kr83m',\n",
    "              coords=['s1_area', 's1_range_50p_area'], n_bins=16)\n",
    "compare_bands(events_salt_matched_to_simu[mask_salt_cut], \n",
    "              events_simu_matched_to_salt[mask_simu_cut], \n",
    "              title='After Cuts Ambience Interference in SR1 Kr83m',\n",
    "              coords=['s1_area', 's1_range_90p_area'], n_bins=16)"
   ]
  },
  {
   "cell_type": "code",
   "execution_count": null,
   "id": "421af232-c044-49a0-8236-05142fa34575",
   "metadata": {},
   "outputs": [],
   "source": [
    "show_area_bias(events_salt_matched_to_simu[mask_salt_cut&mask_simu_cut], \n",
    "               events_simu_matched_to_salt[mask_salt_cut&mask_simu_cut], \n",
    "               title='After Cuts Ambience Interference in SR1 Kr83m', \n",
    "               coord='s1_area', s1s2='S1', n_bins=16, ylim=(-2,10))\n",
    "show_area_bias(events_salt_matched_to_simu[mask_salt_cut&mask_simu_cut], \n",
    "               events_simu_matched_to_salt[mask_salt_cut&mask_simu_cut], \n",
    "               title='After Cuts Ambience Interference in SR1 Kr83m', \n",
    "               coord='s2_area', s1s2='S2', n_bins=16, ylim=(-2,100))\n",
    "show_area_bias(events_salt_matched_to_simu[mask_salt_cut&mask_simu_cut], \n",
    "               events_simu_matched_to_salt[mask_salt_cut&mask_simu_cut], \n",
    "               title='After Cuts Ambience Interference in SR1 Kr83m', \n",
    "               coord='z', s1s2='S2', n_bins=16, ylim=(-2,100))"
   ]
  },
  {
   "cell_type": "markdown",
   "id": "102fe489-07f7-45cd-8402-2a489e324da4",
   "metadata": {},
   "source": [
    "## SR1 Rn220"
   ]
  },
  {
   "cell_type": "code",
   "execution_count": null,
   "id": "c5d15d8f-56ee-4d83-b678-8d9fd576a5fe",
   "metadata": {},
   "outputs": [],
   "source": [
    "(events_simu, \n",
    " events_salt, \n",
    " truth, \n",
    " match, \n",
    " events_salt_matched_to_simu, \n",
    " events_simu_matched_to_salt\n",
    ") = load_events(['049450'], st_salt, st_simu);"
   ]
  },
  {
   "cell_type": "code",
   "execution_count": null,
   "id": "c7454ade-9fad-4459-a09e-74bf8e5c9534",
   "metadata": {},
   "outputs": [],
   "source": [
    "get_single_cut_acc(events_salt_matched_to_simu, events_simu_matched_to_salt,\n",
    "                      all_cut_list = ALL_CUTS_EXCEPT_S2PatternS1Width)\n",
    "get_n_minus_1_cut_acc(events_salt_matched_to_simu, events_simu_matched_to_salt,\n",
    "                      all_cut_list = ALL_CUTS_EXCEPT_S2PatternS1Width)"
   ]
  },
  {
   "cell_type": "code",
   "execution_count": null,
   "id": "d15a2044-a7bb-4c05-b9cb-8a4d6cb1578c",
   "metadata": {},
   "outputs": [],
   "source": [
    "compare_templates(events_salt_matched_to_simu, events_simu_matched_to_salt, \n",
    "                  n_bins = 16, title='Without Cuts Ambience Interference in SR1 Rn220')\n",
    "compare_templates(events_salt_matched_to_simu[apply_cut_lists(events_salt_matched_to_simu,\n",
    "                                                              ALL_CUTS_EXCEPT_S2PatternS1Width)], \n",
    "                  events_simu_matched_to_salt[apply_cut_lists(events_simu_matched_to_salt,\n",
    "                                                              ALL_CUTS_EXCEPT_S2PatternS1Width)], \n",
    "                  n_bins = 16, title='With Cuts Ambience Interference in SR1 Rn220')"
   ]
  },
  {
   "cell_type": "code",
   "execution_count": null,
   "id": "217309e7-a8de-4277-9099-6dd538587906",
   "metadata": {},
   "outputs": [],
   "source": [
    "compare_templates(events_salt_matched_to_simu, events_simu_matched_to_salt, \n",
    "                  n_bins = 16, title='Without Cuts Ambience Interference in SR1 Rn220')\n",
    "compare_templates(events_salt_matched_to_simu[apply_cut_lists(events_salt_matched_to_simu,\n",
    "                                                              ALL_CUTS_EXCEPT_S2PatternS1Width)], \n",
    "                  events_simu_matched_to_salt[apply_cut_lists(events_simu_matched_to_salt,\n",
    "                                                              ALL_CUTS_EXCEPT_S2PatternS1Width)], \n",
    "                  n_bins = 16, title='With Cuts Ambience Interference in SR1 Rn220')"
   ]
  },
  {
   "cell_type": "code",
   "execution_count": null,
   "id": "d98f6be9-aa20-4071-9d49-1c530b8a1f5b",
   "metadata": {},
   "outputs": [],
   "source": [
    "_rn220_s1_cut_eff = get_cut_eff(events_salt_matched_to_simu, all_cut_list = ALL_CUTS_EXCEPT_S2PatternS1Width, \n",
    "                             n_bins=16, coord = 's1_area', plot=True,\n",
    "                             indv_cut_type='n_minus_1', title='N-1 Cut Acceptance Measured in SR1 Rn220',\n",
    "                             bbox_to_anchor=(0.5, 1.52))\n",
    "_rn220_s2_cut_eff = get_cut_eff(events_salt_matched_to_simu, all_cut_list = ALL_CUTS_EXCEPT_S2PatternS1Width, \n",
    "                             n_bins=16, coord = 's2_area', plot=True,\n",
    "                             indv_cut_type='n_minus_1', title='N-1 Cut Acceptance Measured in SR1 Rn220',\n",
    "                             bbox_to_anchor=(0.5, 1.52))\n",
    "_rn220_z_cut_eff = get_cut_eff(events_salt_matched_to_simu, all_cut_list = ALL_CUTS_EXCEPT_S2PatternS1Width, \n",
    "                            n_bins=16, coord = 'z', plot=True,\n",
    "                            indv_cut_type='n_minus_1', title='N-1 Cut Acceptance Measured in SR1 Rn220',\n",
    "                            bbox_to_anchor=(0.5, 1.52))"
   ]
  },
  {
   "cell_type": "code",
   "execution_count": null,
   "id": "ffe6cef8-5106-4b80-955e-5be0efadcf68",
   "metadata": {},
   "outputs": [],
   "source": [
    "mask_simu_cut = apply_cut_lists(events_simu_matched_to_salt,\n",
    "                                ALL_CUTS_EXCEPT_S2PatternS1Width)\n",
    "rn220_s1_cut_eff = get_cut_eff(events_salt_matched_to_simu[mask_simu_cut], \n",
    "                            all_cut_list = ALL_CUTS_EXCEPT_S2PatternS1Width, \n",
    "                            n_bins=16, coord = 's1_area', plot=True,\n",
    "                            indv_cut_type='n_minus_1', \n",
    "                            title='Conditional N-1 Cut Acceptance Measured in SR1 Rn220',\n",
    "                            bbox_to_anchor=(0.5, 1.52))\n",
    "rn220_cut_eff = get_cut_eff(events_salt_matched_to_simu[mask_simu_cut], \n",
    "                         all_cut_list = ALL_CUTS_EXCEPT_S2PatternS1Width, \n",
    "                         n_bins=16, coord = 's2_area', plot=True,\n",
    "                         indv_cut_type='n_minus_1', \n",
    "                         title='Conditional N-1 Cut Acceptance Measured in SR1 Rn220',\n",
    "                         bbox_to_anchor=(0.5, 1.52))\n",
    "rn220_z_cut_eff = get_cut_eff(events_salt_matched_to_simu[mask_simu_cut], \n",
    "                           all_cut_list = ALL_CUTS_EXCEPT_S2PatternS1Width, \n",
    "                           n_bins=16, coord = 'z', plot=True,\n",
    "                           indv_cut_type='n_minus_1', \n",
    "                           title='Conditional N-1 Cut Acceptance Measured in SR1 Rn220',\n",
    "                           bbox_to_anchor=(0.5, 1.52))"
   ]
  },
  {
   "cell_type": "code",
   "execution_count": null,
   "id": "a2979449-a8e0-4294-961c-dd15e15d4672",
   "metadata": {},
   "outputs": [],
   "source": [
    "compare_bands(events_salt_matched_to_simu, \n",
    "              events_simu_matched_to_salt, \n",
    "              title='Before Cuts Ambience Interference in SR1 Rn220',\n",
    "              coords=['z', 's2_range_50p_area'], n_bins=16)\n",
    "compare_bands(events_salt_matched_to_simu, \n",
    "              events_simu_matched_to_salt, \n",
    "              title='Before Cuts Ambience Interference in SR1 Rn220',\n",
    "              coords=['z', 's2_range_90p_area'], n_bins=16)\n",
    "compare_bands(events_salt_matched_to_simu, \n",
    "              events_simu_matched_to_salt, \n",
    "              title='Before Cuts Ambience Interference in SR1 Rn220',\n",
    "              coords=['s1_area', 's1_rise_time'], n_bins=16)\n",
    "compare_bands(events_salt_matched_to_simu, \n",
    "              events_simu_matched_to_salt, \n",
    "              title='Before Cuts Ambience Interference in SR1 Rn220',\n",
    "              coords=['s1_area', 's1_range_50p_area'], n_bins=16)\n",
    "compare_bands(events_salt_matched_to_simu, \n",
    "              events_simu_matched_to_salt, \n",
    "              title='Before Cuts Ambience Interference in SR1 Rn220',\n",
    "              coords=['s1_area', 's1_range_90p_area'], n_bins=16)"
   ]
  },
  {
   "cell_type": "code",
   "execution_count": null,
   "id": "fc3a7c65-a599-4e06-b75a-3665555ecebc",
   "metadata": {},
   "outputs": [],
   "source": [
    "mask_salt_cut = apply_cut_lists(events_salt_matched_to_simu,\n",
    "                                ALL_CUTS_EXCEPT_S2PatternS1Width)\n",
    "compare_bands(events_salt_matched_to_simu[mask_salt_cut], \n",
    "              events_simu_matched_to_salt[mask_simu_cut], \n",
    "              title='After Cuts Ambience Interference in SR1 Rn220',\n",
    "              coords=['z', 's2_range_50p_area'], n_bins=16)\n",
    "compare_bands(events_salt_matched_to_simu[mask_salt_cut], \n",
    "              events_simu_matched_to_salt[mask_simu_cut], \n",
    "              title='After Cuts Ambience Interference in SR1 Rn220',\n",
    "              coords=['z', 's2_range_90p_area'], n_bins=16)\n",
    "compare_bands(events_salt_matched_to_simu[mask_salt_cut], \n",
    "              events_simu_matched_to_salt[mask_simu_cut], \n",
    "              title='After Cuts Ambience Interference in SR1 Rn220',\n",
    "              coords=['s1_area', 's1_rise_time'], n_bins=16)\n",
    "compare_bands(events_salt_matched_to_simu[mask_salt_cut], \n",
    "              events_simu_matched_to_salt[mask_simu_cut], \n",
    "              title='After Cuts Ambience Interference in SR1 Rn220',\n",
    "              coords=['s1_area', 's1_range_50p_area'], n_bins=16)\n",
    "compare_bands(events_salt_matched_to_simu[mask_salt_cut], \n",
    "              events_simu_matched_to_salt[mask_simu_cut], \n",
    "              title='After Cuts Ambience Interference in SR1 Rn220',\n",
    "              coords=['s1_area', 's1_range_90p_area'], n_bins=16)"
   ]
  },
  {
   "cell_type": "code",
   "execution_count": null,
   "id": "590706e3-3c59-49fe-a657-87faed39d98b",
   "metadata": {},
   "outputs": [],
   "source": [
    "show_area_bias(events_salt_matched_to_simu[mask_salt_cut&mask_simu_cut], \n",
    "               events_simu_matched_to_salt[mask_salt_cut&mask_simu_cut], \n",
    "               title='After Cuts Ambience Interference in SR1 Rn220', \n",
    "               coord='s1_area', s1s2='S1', n_bins=16, ylim=(-2,10))\n",
    "show_area_bias(events_salt_matched_to_simu[mask_salt_cut&mask_simu_cut], \n",
    "               events_simu_matched_to_salt[mask_salt_cut&mask_simu_cut], \n",
    "               title='After Cuts Ambience Interference in SR1 Rn220', \n",
    "               coord='s2_area', s1s2='S2', n_bins=16, ylim=(-2,100))\n",
    "show_area_bias(events_salt_matched_to_simu[mask_salt_cut&mask_simu_cut], \n",
    "               events_simu_matched_to_salt[mask_salt_cut&mask_simu_cut], \n",
    "               title='After Cuts Ambience Interference in SR1 Rn220', \n",
    "               coord='z', s1s2='S2', n_bins=16, ylim=(-2,100))"
   ]
  },
  {
   "cell_type": "code",
   "execution_count": null,
   "id": "d550cf36-54e7-456f-9735-2806e122e817",
   "metadata": {},
   "outputs": [],
   "source": []
  }
 ],
 "metadata": {
  "kernelspec": {
   "display_name": "Python 3 (ipykernel)",
   "language": "python",
   "name": "python3"
  },
  "language_info": {
   "codemirror_mode": {
    "name": "ipython",
    "version": 3
   },
   "file_extension": ".py",
   "mimetype": "text/x-python",
   "name": "python",
   "nbconvert_exporter": "python",
   "pygments_lexer": "ipython3",
   "version": "3.9.18"
  }
 },
 "nbformat": 4,
 "nbformat_minor": 5
}
