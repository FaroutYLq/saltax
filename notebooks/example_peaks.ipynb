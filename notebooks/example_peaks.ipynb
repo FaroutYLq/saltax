{
 "cells": [
  {
   "cell_type": "markdown",
   "id": "b27492af-dc89-4ce0-b800-ea780c1896c3",
   "metadata": {},
   "source": [
    "This notebook shows sprinkling result in SR1 data, with single electrons sprinkled.\n",
    "\n",
    "Lanqing, Mar 16 2024"
   ]
  },
  {
   "cell_type": "markdown",
   "id": "807ce1f3-0e13-43c7-a127-ee8727809c6b",
   "metadata": {},
   "source": [
    "# Preparation"
   ]
  },
  {
   "cell_type": "code",
   "execution_count": null,
   "id": "5256c142-8e49-4b19-92f3-94b3ef04d951",
   "metadata": {},
   "outputs": [],
   "source": [
    "import saltax\n",
    "import straxen\n",
    "import cutax\n",
    "from tqdm import tqdm\n",
    "import gc \n",
    "import numpy as np\n",
    "import matplotlib.pyplot as plt\n",
    "from tabulate import tabulate\n",
    "from itertools import cycle\n",
    "from saltax.match.utils import *\n",
    "straxen.print_versions()"
   ]
  },
  {
   "cell_type": "code",
   "execution_count": null,
   "id": "c8c98b6d-20b0-4ce3-ae97-b62bb59f422e",
   "metadata": {},
   "outputs": [],
   "source": [
    "sr1 = '051613,050996,051948,051939,051910,051909,051905,047876,047865,047860,053167,053153,053139,052997,049123,049450,049505,049521,049544'.split(',')\n",
    "modes = ['tpc_radon222', 'tpc_radon222',\n",
    "         'ambe_linked_hev', 'ambe_linked_hev', 'ambe_linked_hev', 'ambe_linked_hev', 'ambe_linked_hev',\n",
    "         'ybe_linked', 'ybe_linked', 'ybe_linked', \n",
    "         'tpc_kr83m', 'tpc_kr83m', 'tpc_kr83m', 'tpc_kr83m',\n",
    "         'tpc_radon_hev', 'tpc_radon_hev', 'tpc_radon_hev', 'tpc_radon_hev', 'tpc_radon_hev']\n",
    "modes_dict = {}\n",
    "for i in range(len(sr1)):\n",
    "    modes_dict[sr1[i]] = modes[i]"
   ]
  },
  {
   "cell_type": "code",
   "execution_count": null,
   "id": "c0c5e3a1-9500-4e7d-b3d9-ac6a80a80037",
   "metadata": {},
   "outputs": [],
   "source": [
    "st_salt = saltax.contexts.sxenonnt(runid=51613, # put anything here should work\n",
    "             saltax_mode='salt',\n",
    "             output_folder='/scratch/midway2/yuanlq/salt/se',\n",
    "             faxconf_version=\"sr0_v4\",\n",
    "             generator_name='se',\n",
    "             recoil=8,\n",
    "             mode='all')\n",
    "st_simu = saltax.contexts.sxenonnt(runid=51613, # put anything here should work\n",
    "             saltax_mode='simu',\n",
    "             output_folder='/scratch/midway2/yuanlq/salt/se',\n",
    "             faxconf_version=\"sr0_v4\",\n",
    "             generator_name='se',\n",
    "             recoil=8,\n",
    "             mode='all')"
   ]
  },
  {
   "cell_type": "code",
   "execution_count": null,
   "id": "d3af735c-4482-4a0d-a83e-7257428c76e4",
   "metadata": {},
   "outputs": [],
   "source": [
    "runs_available = []\n",
    "for run in sr1:\n",
    "    print(run, modes_dict[run], \n",
    "          st_salt.is_stored(run, 'peak_basics'), \n",
    "          st_simu.is_stored(run, 'peak_basics'))"
   ]
  },
  {
   "cell_type": "markdown",
   "id": "7cd00ef9-5f7b-4927-b68f-d072c7dba8c2",
   "metadata": {},
   "source": [
    "Warning! The single electrons are affected by a bug in wfsim! It looks down-sampled in time (100ns resolution), and currently we have no way to fix it. However luckily, we don't care that much about <100ns scale process."
   ]
  },
  {
   "cell_type": "code",
   "execution_count": null,
   "id": "90fd3c06-8551-45d2-80b8-9f3deaf3c4b7",
   "metadata": {},
   "outputs": [],
   "source": [
    "peaks = st_simu.get_array('049505', 'peaks', seconds_range=(0,1));\n",
    "plt.figure(dpi=150)\n",
    "for p in peaks:\n",
    "    plt.plot(np.arange(200)*p['dt'], p['data'])\n",
    "plt.xlabel('Time [ns]')\n",
    "plt.ylabel('Amplitude [PE/10ns]')\n",
    "plt.title('Example Problematic Single Electrons Simulated')"
   ]
  },
  {
   "cell_type": "markdown",
   "id": "25da9913-892d-470c-bd09-54a430529a2e",
   "metadata": {},
   "source": [
    "# Let's sprinkle"
   ]
  },
  {
   "cell_type": "markdown",
   "id": "f40d2414-dcc2-40f3-b07f-0c608c0a4021",
   "metadata": {},
   "source": [
    "## SR1 AmBe"
   ]
  },
  {
   "cell_type": "markdown",
   "id": "384c660c-b828-4f65-98ff-f5af76691876",
   "metadata": {},
   "source": [
    "It may take minutes to load..."
   ]
  },
  {
   "cell_type": "code",
   "execution_count": null,
   "id": "724da284-c100-43a6-9f8e-e440e7a472de",
   "metadata": {
    "scrolled": true
   },
   "outputs": [],
   "source": [
    "(_, _, _, _, \n",
    " peaks_salt_matched_to_simu, # they are of same length\n",
    " peaks_simu_matched_to_salt  # they are of same length\n",
    ") = load_peaks(['051948', '051939', '051910', '051909', '051905'], st_salt, st_simu);"
   ]
  },
  {
   "cell_type": "code",
   "execution_count": null,
   "id": "976d9e21-25ee-4b09-b581-9c070f9e6021",
   "metadata": {},
   "outputs": [],
   "source": [
    "plt.figure(dpi=150)\n",
    "plt.hist(peaks_salt_matched_to_simu['area'], bins=np.linspace(0,100,100), \n",
    "         histtype='step', color='tab:blue', label='Sprinkled')\n",
    "plt.hist(peaks_simu_matched_to_salt['area'], bins=np.linspace(0,100,100), \n",
    "         histtype='step', color='tab:red', label = 'Simulated')\n",
    "plt.title('Before Cuts SE Ambience Interference in SR1 AmBe')\n",
    "plt.legend()\n",
    "plt.xlabel('Area [PE]')\n",
    "plt.ylabel('Counts [AU]')"
   ]
  },
  {
   "cell_type": "markdown",
   "id": "f6f0669c-6540-4e09-b5e9-a93aa479c266",
   "metadata": {},
   "source": [
    "## SR1 Rn222"
   ]
  },
  {
   "cell_type": "code",
   "execution_count": null,
   "id": "9cce3437-47d9-4cc3-b45d-b71ed546a83e",
   "metadata": {
    "scrolled": true
   },
   "outputs": [],
   "source": [
    "(_, _, _, _, \n",
    " peaks_salt_matched_to_simu, # they are of same length\n",
    " peaks_simu_matched_to_salt  # they are of same length\n",
    ") = load_peaks(['051613', '050996'], st_salt, st_simu);"
   ]
  },
  {
   "cell_type": "code",
   "execution_count": null,
   "id": "ca6c8683-4653-40e8-b905-350e2c075d8f",
   "metadata": {},
   "outputs": [],
   "source": [
    "plt.figure(dpi=150)\n",
    "plt.hist(peaks_salt_matched_to_simu['area'], bins=np.linspace(0,100,100), \n",
    "         histtype='step', color='tab:blue', label='Sprinkled')\n",
    "plt.hist(peaks_simu_matched_to_salt['area'], bins=np.linspace(0,100,100), \n",
    "         histtype='step', color='tab:red', label = 'Simulated')\n",
    "plt.title('Before Cuts SE Ambience Interference in SR1 Rn222')\n",
    "plt.legend()\n",
    "plt.xlabel('Area [PE]')\n",
    "plt.ylabel('Counts [AU]')"
   ]
  },
  {
   "cell_type": "markdown",
   "id": "b2869d36-add2-4e75-99b0-f05e56803cff",
   "metadata": {},
   "source": [
    "## SR1 YBe"
   ]
  },
  {
   "cell_type": "code",
   "execution_count": null,
   "id": "c300bf6e-52d2-4b98-bb9c-9076ad346125",
   "metadata": {
    "scrolled": true
   },
   "outputs": [],
   "source": [
    "(_, _, _, _, \n",
    " peaks_salt_matched_to_simu, # they are of same length\n",
    " peaks_simu_matched_to_salt  # they are of same length\n",
    ") = load_peaks(['047876', '047860'], st_salt, st_simu);"
   ]
  },
  {
   "cell_type": "code",
   "execution_count": null,
   "id": "44d43694-e4ea-46de-96cc-555afb15143a",
   "metadata": {},
   "outputs": [],
   "source": [
    "plt.figure(dpi=150)\n",
    "plt.hist(peaks_salt_matched_to_simu['area'], bins=np.linspace(0,100,100), \n",
    "         histtype='step', color='tab:blue', label='Sprinkled')\n",
    "plt.hist(peaks_simu_matched_to_salt['area'], bins=np.linspace(0,100,100), \n",
    "         histtype='step', color='tab:red', label = 'Simulated')\n",
    "plt.title('Before Cuts SE Ambience Interference in SR1 YBe')\n",
    "plt.legend()\n",
    "plt.xlabel('Area [PE]')\n",
    "plt.ylabel('Counts [AU]')"
   ]
  },
  {
   "cell_type": "markdown",
   "id": "e11d2f04-9836-4c3f-882a-d13ba77987a1",
   "metadata": {},
   "source": [
    "## SR1 Kr83m"
   ]
  },
  {
   "cell_type": "code",
   "execution_count": null,
   "id": "6560f7fe-64a0-4ae1-98b9-dc59d31a9d40",
   "metadata": {},
   "outputs": [],
   "source": [
    "(_, _, _, _, \n",
    " peaks_salt_matched_to_simu, # they are of same length\n",
    " peaks_simu_matched_to_salt  # they are of same length\n",
    ") = load_peaks(['053167', '053153', '053139', '052997'], st_salt, st_simu);"
   ]
  },
  {
   "cell_type": "code",
   "execution_count": null,
   "id": "ec8b8ff0-dc5b-4fea-b9d0-4b04d529f76e",
   "metadata": {},
   "outputs": [],
   "source": [
    "plt.figure(dpi=150)\n",
    "plt.hist(peaks_salt_matched_to_simu['area'], bins=np.linspace(0,100,100), \n",
    "         histtype='step', color='tab:blue', label='Sprinkled')\n",
    "plt.hist(peaks_simu_matched_to_salt['area'], bins=np.linspace(0,100,100), \n",
    "         histtype='step', color='tab:red', label = 'Simulated')\n",
    "plt.title('Before Cuts SE Ambience Interference in SR1 Kr83m')\n",
    "plt.legend()\n",
    "plt.xlabel('Area [PE]')\n",
    "plt.ylabel('Counts [AU]')"
   ]
  },
  {
   "cell_type": "markdown",
   "id": "8e57a7a4-83d4-4d26-9b87-adf89a496ebb",
   "metadata": {},
   "source": [
    "## SR1 Rn220"
   ]
  },
  {
   "cell_type": "code",
   "execution_count": null,
   "id": "59de1561-a1d2-49a9-a4b7-003d6ae60c6e",
   "metadata": {},
   "outputs": [],
   "source": [
    "(_, _, _, _, \n",
    " peaks_salt_matched_to_simu, # they are of same length\n",
    " peaks_simu_matched_to_salt  # they are of same length\n",
    ") = load_peaks(['049123', '049450', '049505'], st_salt, st_simu);"
   ]
  },
  {
   "cell_type": "code",
   "execution_count": null,
   "id": "34f6735c-98aa-4cf5-a6d1-b96eede24d46",
   "metadata": {},
   "outputs": [],
   "source": [
    "plt.figure(dpi=150)\n",
    "plt.hist(peaks_salt_matched_to_simu['area'], bins=np.linspace(0,100,100), \n",
    "         histtype='step', color='tab:blue', label='Sprinkled')\n",
    "plt.hist(peaks_simu_matched_to_salt['area'], bins=np.linspace(0,100,100), \n",
    "         histtype='step', color='tab:red', label = 'Simulated')\n",
    "plt.title('Before Cuts SE Ambience Interference in SR1 Rn220')\n",
    "plt.legend()\n",
    "plt.xlabel('Area [PE]')\n",
    "plt.ylabel('Counts [AU]')"
   ]
  },
  {
   "cell_type": "code",
   "execution_count": null,
   "id": "aab23885-5b43-4915-9754-177d120e1194",
   "metadata": {},
   "outputs": [],
   "source": []
  }
 ],
 "metadata": {
  "kernelspec": {
   "display_name": "Python 3 (ipykernel)",
   "language": "python",
   "name": "python3"
  },
  "language_info": {
   "codemirror_mode": {
    "name": "ipython",
    "version": 3
   },
   "file_extension": ".py",
   "mimetype": "text/x-python",
   "name": "python",
   "nbconvert_exporter": "python",
   "pygments_lexer": "ipython3",
   "version": "3.9.18"
  }
 },
 "nbformat": 4,
 "nbformat_minor": 5
}
